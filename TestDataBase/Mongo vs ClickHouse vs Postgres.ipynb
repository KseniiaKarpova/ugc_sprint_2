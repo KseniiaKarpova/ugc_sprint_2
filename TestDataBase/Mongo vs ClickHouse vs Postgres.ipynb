{
 "cells": [
  {
   "cell_type": "markdown",
   "id": "4e6de416",
   "metadata": {},
   "source": [
    "# Импорт библиотек"
   ]
  },
  {
   "cell_type": "code",
   "execution_count": 1,
   "id": "d070406c",
   "metadata": {},
   "outputs": [
    {
     "data": {
      "text/plain": [
       "<psycopg2._psycopg.type 'UUID' at 0x7050af0f2480>"
      ]
     },
     "execution_count": 1,
     "metadata": {},
     "output_type": "execute_result"
    }
   ],
   "source": [
    "import pandas as pd\n",
    "import numpy as np\n",
    "from tqdm import tqdm\n",
    "tqdm.pandas()\n",
    "\n",
    "import uuid\n",
    "import random\n",
    "from datetime import datetime\n",
    "\n",
    "from clickhouse_driver import Client\n",
    "from pymongo import MongoClient\n",
    "import psycopg2\n",
    "from bson.binary import UuidRepresentation\n",
    "import psycopg2.extras\n",
    "psycopg2.extras.register_uuid()"
   ]
  },
  {
   "cell_type": "markdown",
   "id": "c250f5be",
   "metadata": {},
   "source": [
    "# Генерирование данных"
   ]
  },
  {
   "cell_type": "code",
   "execution_count": 2,
   "id": "b3ee3358",
   "metadata": {},
   "outputs": [],
   "source": [
    "BATCH_SIZE = 1000\n",
    "COUNT_BATCH = 1000000//BATCH_SIZE\n",
    "COUNT_INSERT = 1000000\n",
    "\n",
    "ROWS = ['user_id', 'film_id', 'point', 'timestamp']\n",
    "\n",
    "films = [uuid.uuid4() for i in range(1000)]\n",
    "\n",
    "def generate_dict():\n",
    "    return {\n",
    "        'user_id': uuid.uuid4(),\n",
    "        'film_id': random.choice(films),\n",
    "        'point': random.randint(0, 10), \n",
    "        'timestamp': datetime.now()\n",
    "    }\n",
    "    \n",
    "def generate():\n",
    "    return (\n",
    "        uuid.uuid4(),\n",
    "        random.choice(films),\n",
    "        random.randint(0, 10),\n",
    "        datetime.now()\n",
    "        )\n",
    "\n",
    "def generate_many_random_data():\n",
    "    batch = []\n",
    "    for i in range(BATCH_SIZE):\n",
    "        batch.append(generate())\n",
    "   \n",
    "    return batch\n",
    "\n",
    "\n",
    "def generate_many_random_data_dict():\n",
    "    batch = []\n",
    "    for i in range(BATCH_SIZE):\n",
    "        batch.append(generate_dict())\n",
    "   \n",
    "    return batch"
   ]
  },
  {
   "cell_type": "code",
   "execution_count": 3,
   "id": "aac158ef",
   "metadata": {},
   "outputs": [
    {
     "data": {
      "text/plain": [
       "{'user_id': UUID('c36f7e3c-5cb0-4b51-8fc3-1fc450e5b6f8'),\n",
       " 'film_id': UUID('74d8617c-a75d-46de-8808-2efce02fb040'),\n",
       " 'point': 0,\n",
       " 'timestamp': datetime.datetime(2024, 3, 24, 17, 6, 10, 94280)}"
      ]
     },
     "execution_count": 3,
     "metadata": {},
     "output_type": "execute_result"
    }
   ],
   "source": [
    "generate_many_random_data_dict()[0]"
   ]
  },
  {
   "cell_type": "markdown",
   "id": "83749945",
   "metadata": {},
   "source": [
    "# Подключение"
   ]
  },
  {
   "cell_type": "code",
   "execution_count": 2,
   "id": "d9b87dff",
   "metadata": {},
   "outputs": [],
   "source": [
    "cl_mongo = MongoClient('localhost', 27017,uuidRepresentation='standard')"
   ]
  },
  {
   "cell_type": "code",
   "execution_count": 5,
   "id": "fc8d04eb",
   "metadata": {},
   "outputs": [],
   "source": [
    "connection_pg = psycopg2.connect(dsn=\"dbname=postgres_db user=postgres password=postgres host=localhost port=5432\")\n",
    "cursor_pg = connection_pg.cursor()"
   ]
  },
  {
   "cell_type": "code",
   "execution_count": 6,
   "id": "2087042f",
   "metadata": {},
   "outputs": [],
   "source": [
    "clientCH = Client(host='localhost') "
   ]
  },
  {
   "cell_type": "markdown",
   "id": "a9159e6c",
   "metadata": {},
   "source": [
    "# Создание таблиц"
   ]
  },
  {
   "cell_type": "code",
   "execution_count": 8,
   "id": "f19dd295",
   "metadata": {},
   "outputs": [],
   "source": [
    "mongo_db = cl_mongo[\"test_database\"]\n",
    "mongo_col = mongo_db[\"test_points\"]"
   ]
  },
  {
   "cell_type": "code",
   "execution_count": 8,
   "id": "fcc9260b",
   "metadata": {},
   "outputs": [],
   "source": [
    "cursor_pg.execute(\n",
    "\"\"\"\n",
    "    CREATE TABLE IF NOT EXISTS test_points(\n",
    "        user_id UUID,\n",
    "        film_id UUID,\n",
    "        point SMALLINT,\n",
    "        timestamp TIMESTAMP\n",
    "    );\n",
    "\"\"\"\n",
    ")\n",
    "connection_pg.commit()"
   ]
  },
  {
   "cell_type": "code",
   "execution_count": 9,
   "id": "aa714032",
   "metadata": {},
   "outputs": [
    {
     "data": {
      "text/plain": [
       "[]"
      ]
     },
     "execution_count": 9,
     "metadata": {},
     "output_type": "execute_result"
    }
   ],
   "source": [
    "clientCH.execute('CREATE DATABASE IF NOT EXISTS test_database;')\n",
    "\n",
    "init = \"\"\"CREATE TABLE IF NOT EXISTS test_database.test_points (\n",
    "    user_id UUID,\n",
    "    film_id UUID,\n",
    "    point Int16,\n",
    "    timestamp TIMESTAMP\n",
    ")\n",
    "Engine=MergeTree()\n",
    "ORDER BY (user_id, film_id);\"\"\"\n",
    "clientCH.execute(init)"
   ]
  },
  {
   "cell_type": "markdown",
   "id": "5ca1fe5a",
   "metadata": {},
   "source": [
    "# Insert батчами"
   ]
  },
  {
   "cell_type": "code",
   "execution_count": 10,
   "id": "21d6c02d",
   "metadata": {},
   "outputs": [],
   "source": [
    "df = pd.DataFrame()"
   ]
  },
  {
   "cell_type": "code",
   "execution_count": 11,
   "id": "f21bacfc",
   "metadata": {},
   "outputs": [],
   "source": [
    "df['num'] = pd.Series([x for x in range(COUNT_BATCH)])"
   ]
  },
  {
   "cell_type": "markdown",
   "id": "3b027ff3",
   "metadata": {},
   "source": [
    "## 1. Mongo"
   ]
  },
  {
   "cell_type": "code",
   "execution_count": 12,
   "id": "f860ebde",
   "metadata": {},
   "outputs": [],
   "source": [
    "def insert_b_mongo(i):\n",
    "    data = generate_many_random_data_dict()\n",
    "    now = datetime.now()\n",
    "    x = mongo_col.insert_many(data)\n",
    "    later = datetime.now()\n",
    "    return (later-now).total_seconds()"
   ]
  },
  {
   "cell_type": "code",
   "execution_count": 13,
   "id": "0cdeff43",
   "metadata": {},
   "outputs": [
    {
     "name": "stderr",
     "output_type": "stream",
     "text": [
      "100%|██████████████████████████████████████| 1000/1000 [00:08<00:00, 122.55it/s]\n"
     ]
    }
   ],
   "source": [
    "df['Mongo ib'] = df['num'].progress_apply(insert_b_mongo)"
   ]
  },
  {
   "cell_type": "markdown",
   "id": "98465b2e",
   "metadata": {},
   "source": [
    "## 2. Clickhouse"
   ]
  },
  {
   "cell_type": "code",
   "execution_count": 14,
   "id": "c82ee1bc",
   "metadata": {},
   "outputs": [],
   "source": [
    "def insert_b_clichouse(i):\n",
    "    data = generate_many_random_data()\n",
    "    now = datetime.now()\n",
    "    clientCH.execute('INSERT INTO test_database.test_points (user_id, film_id, point, timestamp) VALUES',\n",
    "                     data)\n",
    "    later = datetime.now()\n",
    "    return (later-now).total_seconds()"
   ]
  },
  {
   "cell_type": "code",
   "execution_count": 19,
   "id": "da1125d9",
   "metadata": {},
   "outputs": [
    {
     "name": "stderr",
     "output_type": "stream",
     "text": [
      "100%|██████████████████████████████████████| 1000/1000 [00:05<00:00, 184.15it/s]\n"
     ]
    }
   ],
   "source": [
    "df['clichouse ib'] = df['num'].progress_apply(insert_b_clichouse)"
   ]
  },
  {
   "cell_type": "markdown",
   "id": "291cc25d",
   "metadata": {},
   "source": [
    "## 3. Postgres"
   ]
  },
  {
   "cell_type": "code",
   "execution_count": 16,
   "id": "a5ac1b15",
   "metadata": {},
   "outputs": [],
   "source": [
    "def insert_b_pg(i):\n",
    "    data = generate_many_random_data()\n",
    "    now = datetime.now()\n",
    "    cursor_pg.executemany(\"INSERT INTO test_points (user_id, film_id, point, timestamp) VALUES(%s,%s,%s,%s)\", data)\n",
    "    connection_pg.commit()\n",
    "    later = datetime.now()\n",
    "    return (later-now).total_seconds()"
   ]
  },
  {
   "cell_type": "code",
   "execution_count": 17,
   "id": "2b4a33a1",
   "metadata": {},
   "outputs": [
    {
     "name": "stderr",
     "output_type": "stream",
     "text": [
      "100%|███████████████████████████████████████| 1000/1000 [00:39<00:00, 25.26it/s]\n"
     ]
    }
   ],
   "source": [
    "df['postgres ib'] = df['num'].progress_apply(insert_b_pg)"
   ]
  },
  {
   "cell_type": "markdown",
   "id": "fb9d3ee9",
   "metadata": {},
   "source": [
    "## Результаты"
   ]
  },
  {
   "cell_type": "code",
   "execution_count": 18,
   "id": "6970faa9",
   "metadata": {},
   "outputs": [
    {
     "data": {
      "text/html": [
       "<div>\n",
       "<style scoped>\n",
       "    .dataframe tbody tr th:only-of-type {\n",
       "        vertical-align: middle;\n",
       "    }\n",
       "\n",
       "    .dataframe tbody tr th {\n",
       "        vertical-align: top;\n",
       "    }\n",
       "\n",
       "    .dataframe thead th {\n",
       "        text-align: right;\n",
       "    }\n",
       "</style>\n",
       "<table border=\"1\" class=\"dataframe\">\n",
       "  <thead>\n",
       "    <tr style=\"text-align: right;\">\n",
       "      <th></th>\n",
       "      <th>Mongo ib</th>\n",
       "      <th>clichouse ib</th>\n",
       "      <th>postgres ib</th>\n",
       "    </tr>\n",
       "  </thead>\n",
       "  <tbody>\n",
       "    <tr>\n",
       "      <th>count</th>\n",
       "      <td>1000.000000</td>\n",
       "      <td>1000.000000</td>\n",
       "      <td>1000.000000</td>\n",
       "    </tr>\n",
       "    <tr>\n",
       "      <th>mean</th>\n",
       "      <td>0.005751</td>\n",
       "      <td>0.003123</td>\n",
       "      <td>0.036680</td>\n",
       "    </tr>\n",
       "    <tr>\n",
       "      <th>std</th>\n",
       "      <td>0.000489</td>\n",
       "      <td>0.000440</td>\n",
       "      <td>0.003953</td>\n",
       "    </tr>\n",
       "    <tr>\n",
       "      <th>min</th>\n",
       "      <td>0.005293</td>\n",
       "      <td>0.002234</td>\n",
       "      <td>0.027856</td>\n",
       "    </tr>\n",
       "    <tr>\n",
       "      <th>25%</th>\n",
       "      <td>0.005551</td>\n",
       "      <td>0.002792</td>\n",
       "      <td>0.034152</td>\n",
       "    </tr>\n",
       "    <tr>\n",
       "      <th>50%</th>\n",
       "      <td>0.005659</td>\n",
       "      <td>0.003096</td>\n",
       "      <td>0.036255</td>\n",
       "    </tr>\n",
       "    <tr>\n",
       "      <th>75%</th>\n",
       "      <td>0.005800</td>\n",
       "      <td>0.003388</td>\n",
       "      <td>0.038790</td>\n",
       "    </tr>\n",
       "    <tr>\n",
       "      <th>max</th>\n",
       "      <td>0.017402</td>\n",
       "      <td>0.005394</td>\n",
       "      <td>0.067338</td>\n",
       "    </tr>\n",
       "  </tbody>\n",
       "</table>\n",
       "</div>"
      ],
      "text/plain": [
       "          Mongo ib  clichouse ib  postgres ib\n",
       "count  1000.000000   1000.000000  1000.000000\n",
       "mean      0.005751      0.003123     0.036680\n",
       "std       0.000489      0.000440     0.003953\n",
       "min       0.005293      0.002234     0.027856\n",
       "25%       0.005551      0.002792     0.034152\n",
       "50%       0.005659      0.003096     0.036255\n",
       "75%       0.005800      0.003388     0.038790\n",
       "max       0.017402      0.005394     0.067338"
      ]
     },
     "execution_count": 18,
     "metadata": {},
     "output_type": "execute_result"
    }
   ],
   "source": [
    "df[['Mongo ib','clichouse ib','postgres ib']].describe()"
   ]
  },
  {
   "cell_type": "code",
   "execution_count": 20,
   "id": "9b007ad9",
   "metadata": {},
   "outputs": [],
   "source": [
    "del df"
   ]
  },
  {
   "cell_type": "code",
   "execution_count": 21,
   "id": "f5eacdd6",
   "metadata": {},
   "outputs": [
    {
     "data": {
      "text/plain": [
       "16"
      ]
     },
     "execution_count": 21,
     "metadata": {},
     "output_type": "execute_result"
    }
   ],
   "source": [
    "import gc\n",
    "gc.collect()"
   ]
  },
  {
   "cell_type": "markdown",
   "id": "ec8eb9d9",
   "metadata": {},
   "source": [
    "# Insert по одному"
   ]
  },
  {
   "cell_type": "code",
   "execution_count": 22,
   "id": "77ac58b1",
   "metadata": {},
   "outputs": [],
   "source": [
    "df = pd.DataFrame()\n",
    "df['num'] = pd.Series([x for x in range(COUNT_INSERT)])"
   ]
  },
  {
   "cell_type": "markdown",
   "id": "6186f36f",
   "metadata": {},
   "source": [
    "## 1. Mongo"
   ]
  },
  {
   "cell_type": "code",
   "execution_count": 23,
   "id": "d0012bf6",
   "metadata": {},
   "outputs": [],
   "source": [
    "def insert_mongo(i):\n",
    "    data = generate_dict()\n",
    "    now = datetime.now()\n",
    "    x = mongo_col.insert_one(data)\n",
    "    later = datetime.now()\n",
    "    return (later-now).total_seconds()"
   ]
  },
  {
   "cell_type": "code",
   "execution_count": 24,
   "id": "e29c7c3d",
   "metadata": {},
   "outputs": [
    {
     "name": "stderr",
     "output_type": "stream",
     "text": [
      "100%|███████████████████████████████| 1000000/1000000 [02:28<00:00, 6735.20it/s]\n"
     ]
    }
   ],
   "source": [
    "df['Mongo'] = df['num'].progress_apply(insert_mongo)"
   ]
  },
  {
   "cell_type": "markdown",
   "id": "54004b18",
   "metadata": {},
   "source": [
    "## 2. Clickhouse"
   ]
  },
  {
   "cell_type": "markdown",
   "id": "2f67b50f",
   "metadata": {},
   "source": [
    "def insert_b_clichouse(i):\n",
    "    data = generate_many_random_data()\n",
    "    now = datetime.now()\n",
    "    clientCH.execute('INSERT INTO test_database.test_points (user_id, film_id, point, timestamp) VALUES',\n",
    "                     data)\n",
    "    later = datetime.now()\n",
    "    return (later-now).total_seconds()"
   ]
  },
  {
   "cell_type": "markdown",
   "id": "6eb44ca7",
   "metadata": {},
   "source": [
    "df['clichouse'] = df['num'].progress_apply(insert_clichouse)"
   ]
  },
  {
   "cell_type": "markdown",
   "id": "94ef3086",
   "metadata": {},
   "source": [
    "## 3. Postgres"
   ]
  },
  {
   "cell_type": "code",
   "execution_count": 25,
   "id": "cb38f45c",
   "metadata": {},
   "outputs": [],
   "source": [
    "def insert_pg(i):\n",
    "    data = generate()\n",
    "    now = datetime.now()\n",
    "    cursor_pg.execute(\"INSERT INTO test_points (user_id, film_id, point, timestamp) VALUES(%s,%s,%s,%s)\", data)\n",
    "    connection_pg.commit()\n",
    "    later = datetime.now()\n",
    "    return (later-now).total_seconds()"
   ]
  },
  {
   "cell_type": "code",
   "execution_count": 26,
   "id": "18b645ec",
   "metadata": {},
   "outputs": [
    {
     "name": "stderr",
     "output_type": "stream",
     "text": [
      "100%|████████████████████████████████| 1000000/1000000 [56:08<00:00, 296.91it/s]\n"
     ]
    }
   ],
   "source": [
    "df['postgres'] = df['num'].progress_apply(insert_pg)"
   ]
  },
  {
   "cell_type": "markdown",
   "id": "59a1b857",
   "metadata": {},
   "source": [
    "## Результаты"
   ]
  },
  {
   "cell_type": "code",
   "execution_count": 27,
   "id": "13882a3b",
   "metadata": {},
   "outputs": [
    {
     "data": {
      "text/html": [
       "<div>\n",
       "<style scoped>\n",
       "    .dataframe tbody tr th:only-of-type {\n",
       "        vertical-align: middle;\n",
       "    }\n",
       "\n",
       "    .dataframe tbody tr th {\n",
       "        vertical-align: top;\n",
       "    }\n",
       "\n",
       "    .dataframe thead th {\n",
       "        text-align: right;\n",
       "    }\n",
       "</style>\n",
       "<table border=\"1\" class=\"dataframe\">\n",
       "  <thead>\n",
       "    <tr style=\"text-align: right;\">\n",
       "      <th></th>\n",
       "      <th>Mongo</th>\n",
       "      <th>postgres</th>\n",
       "    </tr>\n",
       "  </thead>\n",
       "  <tbody>\n",
       "    <tr>\n",
       "      <th>count</th>\n",
       "      <td>1000000.000000</td>\n",
       "      <td>1000000.000000</td>\n",
       "    </tr>\n",
       "    <tr>\n",
       "      <th>mean</th>\n",
       "      <td>0.000138</td>\n",
       "      <td>0.003229</td>\n",
       "    </tr>\n",
       "    <tr>\n",
       "      <th>std</th>\n",
       "      <td>0.000048</td>\n",
       "      <td>0.001594</td>\n",
       "    </tr>\n",
       "    <tr>\n",
       "      <th>min</th>\n",
       "      <td>0.000091</td>\n",
       "      <td>0.000264</td>\n",
       "    </tr>\n",
       "    <tr>\n",
       "      <th>25%</th>\n",
       "      <td>0.000113</td>\n",
       "      <td>0.002041</td>\n",
       "    </tr>\n",
       "    <tr>\n",
       "      <th>50%</th>\n",
       "      <td>0.000122</td>\n",
       "      <td>0.002848</td>\n",
       "    </tr>\n",
       "    <tr>\n",
       "      <th>75%</th>\n",
       "      <td>0.000151</td>\n",
       "      <td>0.004529</td>\n",
       "    </tr>\n",
       "    <tr>\n",
       "      <th>max</th>\n",
       "      <td>0.007041</td>\n",
       "      <td>0.011811</td>\n",
       "    </tr>\n",
       "  </tbody>\n",
       "</table>\n",
       "</div>"
      ],
      "text/plain": [
       "                Mongo        postgres\n",
       "count  1000000.000000  1000000.000000\n",
       "mean         0.000138        0.003229\n",
       "std          0.000048        0.001594\n",
       "min          0.000091        0.000264\n",
       "25%          0.000113        0.002041\n",
       "50%          0.000122        0.002848\n",
       "75%          0.000151        0.004529\n",
       "max          0.007041        0.011811"
      ]
     },
     "execution_count": 27,
     "metadata": {},
     "output_type": "execute_result"
    }
   ],
   "source": [
    "df[['Mongo','postgres']].describe()"
   ]
  },
  {
   "cell_type": "markdown",
   "id": "1480409c",
   "metadata": {},
   "source": [
    "# Select"
   ]
  },
  {
   "cell_type": "code",
   "execution_count": 11,
   "id": "5e146cb3",
   "metadata": {},
   "outputs": [],
   "source": [
    "films = mongo_col.distinct(\"film_id\")"
   ]
  },
  {
   "cell_type": "code",
   "execution_count": 36,
   "id": "17264250",
   "metadata": {},
   "outputs": [],
   "source": [
    "df = pd.DataFrame()\n",
    "df['num'] = pd.Series([x for x in range(1000)])"
   ]
  },
  {
   "cell_type": "markdown",
   "id": "7d939fc5",
   "metadata": {},
   "source": [
    "## 1. Mongo"
   ]
  },
  {
   "cell_type": "code",
   "execution_count": 34,
   "id": "91b6b5d9",
   "metadata": {},
   "outputs": [],
   "source": [
    "cursor = mongo_col.aggregate([\n",
    "    { \n",
    "        '$match': { 'film_id': { '$in': [ random.choice(films) ] } } \n",
    "    },\n",
    "    { '$group' : {'_id': None , 'avg_val':{'$avg':\"$point\"}}}\n",
    "])"
   ]
  },
  {
   "cell_type": "code",
   "execution_count": 35,
   "id": "ae8abaac",
   "metadata": {},
   "outputs": [
    {
     "name": "stdout",
     "output_type": "stream",
     "text": [
      "{'_id': None, 'avg_val': 5.047762694821518}\n"
     ]
    }
   ],
   "source": [
    "for document in cursor:\n",
    "    print(document)"
   ]
  },
  {
   "cell_type": "code",
   "execution_count": 39,
   "id": "18beacf3",
   "metadata": {},
   "outputs": [],
   "source": [
    "def select_mongo(i):\n",
    "    f = random.choice(films)\n",
    "    now = datetime.now()\n",
    "    cursor = mongo_col.aggregate([{ \n",
    "            '$match': { 'film_id': { '$in': [ f ] } } \n",
    "        },\n",
    "        { '$group' : {'_id': None , 'avg_val':{'$avg':\"$point\"}}}\n",
    "    ])\n",
    "    later = datetime.now()\n",
    "    return (later-now).total_seconds()"
   ]
  },
  {
   "cell_type": "code",
   "execution_count": 40,
   "id": "1ab83514",
   "metadata": {},
   "outputs": [
    {
     "name": "stderr",
     "output_type": "stream",
     "text": [
      "100%|███████████████████████████████████████| 1000/1000 [06:30<00:00,  2.56it/s]\n"
     ]
    }
   ],
   "source": [
    "df['Mongo'] = df['num'].progress_apply(select_mongo)"
   ]
  },
  {
   "cell_type": "markdown",
   "id": "26971e1a",
   "metadata": {},
   "source": [
    "## 2. Clickhouse"
   ]
  },
  {
   "cell_type": "code",
   "execution_count": 41,
   "id": "8c296899",
   "metadata": {},
   "outputs": [
    {
     "data": {
      "text/plain": [
       "[(5.057045343734764,)]"
      ]
     },
     "execution_count": 41,
     "metadata": {},
     "output_type": "execute_result"
    }
   ],
   "source": [
    "f = random.choice(films)\n",
    "clientCH.execute(f\"SELECT avg(point) FROM test_database.test_points where film_id='{f}'\")"
   ]
  },
  {
   "cell_type": "code",
   "execution_count": 42,
   "id": "f481b983",
   "metadata": {},
   "outputs": [],
   "source": [
    "def select_clichouse(i):\n",
    "    f = random.choice(films)\n",
    "    now = datetime.now()\n",
    "    clientCH.execute(f\"SELECT avg(point) FROM test_database.test_points where film_id='{f}'\")\n",
    "    later = datetime.now()\n",
    "    return (later-now).total_seconds()"
   ]
  },
  {
   "cell_type": "code",
   "execution_count": 43,
   "id": "0908c7f2",
   "metadata": {},
   "outputs": [
    {
     "name": "stderr",
     "output_type": "stream",
     "text": [
      "100%|██████████████████████████████████████| 1000/1000 [00:07<00:00, 134.01it/s]\n"
     ]
    }
   ],
   "source": [
    "df['clichouse'] = df['num'].progress_apply(select_clichouse)"
   ]
  },
  {
   "cell_type": "markdown",
   "id": "3c79c8e6",
   "metadata": {},
   "source": [
    "## 3. Postgres"
   ]
  },
  {
   "cell_type": "code",
   "execution_count": 53,
   "id": "43ed1e37",
   "metadata": {},
   "outputs": [],
   "source": [
    "cursor_pg.execute(\"ROLLBACK\")\n",
    "connection_pg.commit()"
   ]
  },
  {
   "cell_type": "code",
   "execution_count": 55,
   "id": "3cf835d9",
   "metadata": {},
   "outputs": [
    {
     "data": {
      "text/plain": [
       "(Decimal('5.0114770459081836'),)"
      ]
     },
     "execution_count": 55,
     "metadata": {},
     "output_type": "execute_result"
    }
   ],
   "source": [
    "f = random.choice(films)\n",
    "cursor_pg.execute(\"SELECT avg(point) FROM test_points where film_id = %(film_id)s;\", {\"film_id\": f})\n",
    "cursor_pg.fetchone()"
   ]
  },
  {
   "cell_type": "code",
   "execution_count": 56,
   "id": "5584217f",
   "metadata": {},
   "outputs": [],
   "source": [
    "def select_pg(i):\n",
    "    f = random.choice(films)\n",
    "    now = datetime.now()\n",
    "    cursor_pg.execute(\"SELECT avg(point) FROM test_points where film_id = %(film_id)s;\", {\"film_id\": f})\n",
    "    cursor_pg.fetchone()\n",
    "    later = datetime.now()\n",
    "    return (later-now).total_seconds()"
   ]
  },
  {
   "cell_type": "code",
   "execution_count": 57,
   "id": "6c558c0d",
   "metadata": {},
   "outputs": [
    {
     "name": "stderr",
     "output_type": "stream",
     "text": [
      "100%|███████████████████████████████████████| 1000/1000 [00:25<00:00, 38.96it/s]\n"
     ]
    }
   ],
   "source": [
    "df['postgres'] = df['num'].progress_apply(select_pg)"
   ]
  },
  {
   "cell_type": "code",
   "execution_count": 58,
   "id": "59f5f1b5",
   "metadata": {},
   "outputs": [
    {
     "data": {
      "text/html": [
       "<div>\n",
       "<style scoped>\n",
       "    .dataframe tbody tr th:only-of-type {\n",
       "        vertical-align: middle;\n",
       "    }\n",
       "\n",
       "    .dataframe tbody tr th {\n",
       "        vertical-align: top;\n",
       "    }\n",
       "\n",
       "    .dataframe thead th {\n",
       "        text-align: right;\n",
       "    }\n",
       "</style>\n",
       "<table border=\"1\" class=\"dataframe\">\n",
       "  <thead>\n",
       "    <tr style=\"text-align: right;\">\n",
       "      <th></th>\n",
       "      <th>Mongo</th>\n",
       "      <th>clichouse</th>\n",
       "      <th>postgres</th>\n",
       "    </tr>\n",
       "  </thead>\n",
       "  <tbody>\n",
       "    <tr>\n",
       "      <th>count</th>\n",
       "      <td>1000.000000</td>\n",
       "      <td>1000.000000</td>\n",
       "      <td>1000.000000</td>\n",
       "    </tr>\n",
       "    <tr>\n",
       "      <th>mean</th>\n",
       "      <td>0.389886</td>\n",
       "      <td>0.007394</td>\n",
       "      <td>0.025489</td>\n",
       "    </tr>\n",
       "    <tr>\n",
       "      <th>std</th>\n",
       "      <td>0.027723</td>\n",
       "      <td>0.001254</td>\n",
       "      <td>0.001172</td>\n",
       "    </tr>\n",
       "    <tr>\n",
       "      <th>min</th>\n",
       "      <td>0.325447</td>\n",
       "      <td>0.004857</td>\n",
       "      <td>0.023532</td>\n",
       "    </tr>\n",
       "    <tr>\n",
       "      <th>25%</th>\n",
       "      <td>0.373211</td>\n",
       "      <td>0.006646</td>\n",
       "      <td>0.024624</td>\n",
       "    </tr>\n",
       "    <tr>\n",
       "      <th>50%</th>\n",
       "      <td>0.391570</td>\n",
       "      <td>0.007281</td>\n",
       "      <td>0.025195</td>\n",
       "    </tr>\n",
       "    <tr>\n",
       "      <th>75%</th>\n",
       "      <td>0.406921</td>\n",
       "      <td>0.007987</td>\n",
       "      <td>0.026144</td>\n",
       "    </tr>\n",
       "    <tr>\n",
       "      <th>max</th>\n",
       "      <td>0.547814</td>\n",
       "      <td>0.024267</td>\n",
       "      <td>0.032464</td>\n",
       "    </tr>\n",
       "  </tbody>\n",
       "</table>\n",
       "</div>"
      ],
      "text/plain": [
       "             Mongo    clichouse     postgres\n",
       "count  1000.000000  1000.000000  1000.000000\n",
       "mean      0.389886     0.007394     0.025489\n",
       "std       0.027723     0.001254     0.001172\n",
       "min       0.325447     0.004857     0.023532\n",
       "25%       0.373211     0.006646     0.024624\n",
       "50%       0.391570     0.007281     0.025195\n",
       "75%       0.406921     0.007987     0.026144\n",
       "max       0.547814     0.024267     0.032464"
      ]
     },
     "execution_count": 58,
     "metadata": {},
     "output_type": "execute_result"
    }
   ],
   "source": [
    "df[['Mongo','clichouse','postgres']].describe()"
   ]
  },
  {
   "cell_type": "code",
   "execution_count": null,
   "id": "b2bfec54",
   "metadata": {},
   "outputs": [],
   "source": []
  }
 ],
 "metadata": {
  "kernelspec": {
   "display_name": "Python 3 (ipykernel)",
   "language": "python",
   "name": "python3"
  },
  "language_info": {
   "codemirror_mode": {
    "name": "ipython",
    "version": 3
   },
   "file_extension": ".py",
   "mimetype": "text/x-python",
   "name": "python",
   "nbconvert_exporter": "python",
   "pygments_lexer": "ipython3",
   "version": "3.10.12"
  }
 },
 "nbformat": 4,
 "nbformat_minor": 5
}
